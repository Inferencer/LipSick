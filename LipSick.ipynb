{
  "cells": [
    {
      "cell_type": "code",
      "execution_count": null,
      "metadata": {
        "id": "NmvYaJkZ01SB"
      },
      "outputs": [],
      "source": [
        "!nvcc --version\n",
        "!pip install torch==2.2.1 torchvision==0.17.1 torchaudio==2.2.1 -f https://download.pytorch.org/whl/torch_stable.html > /dev/null 2>&1\n",
        "!git clone -b Google-Collab https://github.com/Inferencer/LipSick.git > /dev/null 2>&1\n",
        "%cd /content/LipSick\n",
        "!wget https://github.com/Inferencer/LipSick/releases/download/v1PretrainedModels/output_graph.pb -O ./asserts/output_graph.pb > /dev/null 2>&1\n",
        "!wget https://github.com/Inferencer/LipSick/releases/download/v1PretrainedModels/pretrained_lipsick.pth -O ./asserts/pretrained_lipsick.pth > /dev/null 2>&1\n",
        "!wget https://github.com/Inferencer/LipSick/releases/download/v1PretrainedModels/shape_predictor_68_face_landmarks.dat -O ./models/shape_predictor_68_face_landmarks.dat > /dev/null 2>&1\n",
        "!pip install -r /content/LipSick/requirements.txt > /dev/null 2>&1\n",
        "%reload_ext autoreload\n",
        "%autoreload 2\n",
        "%cd /content/LipSick\n",
        "!python /content/LipSick/app.py"
      ]
    },
    {
      "cell_type": "markdown",
      "metadata": {
        "id": "2csPulhg2lMP"
      },
      "source": [
        "![LipSick Logo](https://github.com/Inferencer/LipSick/raw/main/utils/logo/LipSick_bg.jpg)"
      ]
    }
  ],
  "metadata": {
    "accelerator": "GPU",
    "colab": {
      "gpuType": "T4",
      "provenance": []
    },
    "kernelspec": {
      "display_name": "Python 3",
      "name": "python3"
    },
    "language_info": {
      "name": "python"
    }
  },
  "nbformat": 4,
  "nbformat_minor": 0
}